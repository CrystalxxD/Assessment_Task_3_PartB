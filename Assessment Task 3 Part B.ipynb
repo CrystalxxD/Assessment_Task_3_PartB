{
 "cells": [
  {
   "cell_type": "markdown",
   "metadata": {},
   "source": [
    "# Software Design Project Proposal\n",
    "## Identify & Defining\n"
   ]
  }
 ],
 "metadata": {
  "language_info": {
   "name": "python"
  }
 },
 "nbformat": 4,
 "nbformat_minor": 2
}
